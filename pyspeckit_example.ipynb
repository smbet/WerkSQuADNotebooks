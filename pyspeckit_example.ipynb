{
 "cells": [
  {
   "cell_type": "markdown",
   "metadata": {},
   "source": [
    "# Works through (copypastes) two example notebooks in pyspeckit documentation. First is using functions built into pyspeckit to automatically fit lines. Below that is a guide to fitting lines manually."
   ]
  },
  {
   "cell_type": "code",
   "execution_count": 21,
   "metadata": {},
   "outputs": [],
   "source": [
    "import pyspeckit\n",
    "import matplotlib.pylab as plt\n",
    "import numpy as np\n",
    "import astropy.io.fits as fits"
   ]
  },
  {
   "cell_type": "code",
   "execution_count": 22,
   "metadata": {},
   "outputs": [
    {
     "data": {
      "image/png": "[encoded data removed]",
      "text/plain": [
       "<Figure size 432x288 with 1 Axes>"
      ]
     },
     "metadata": {
      "needs_background": "light"
     },
     "output_type": "display_data"
    }
   ],
   "source": [
    "spec = pyspeckit.Spectrum('./py_files/sample_sdss.txt', errorcol=2)\n",
    "spec.plotter(xmin = 6450, xmax = 6775, ymin = 0, ymax = 150)"
   ]
  },
  {
   "cell_type": "code",
   "execution_count": 23,
   "metadata": {},
   "outputs": [],
   "source": [
    "# DAMN look at that emission spectrum!"
   ]
  },
  {
   "cell_type": "code",
   "execution_count": 24,
   "metadata": {},
   "outputs": [],
   "source": [
    "# this one uses a fitting process that involves initial guesses in which z-0\n",
    "\n",
    "NIIa = 6549.86\n",
    "NIIb = 6585.27\n",
    "Halpha = 6564.614\n",
    "SIIa = 6718.29\n",
    "SIIb = 6732.68 # units are of course angstrom"
   ]
  },
  {
   "cell_type": "code",
   "execution_count": 25,
   "metadata": {},
   "outputs": [],
   "source": [
    "# so it looks like whatever fitting function we're about to call is expecting arguments in the form:\n",
    "# guesses = [amplitude, center, width]. I'm not sure what \"tied\" is though. Maybe it's providing parameter info?\n",
    "# also not positive why Halpha is here twice... they aren't filter bands are they?\n",
    "\n",
    "guesses = [50, NIIa, 5, 100, Halpha, 5, 50, Halpha, 50, 50, NIIb, 5, 20, SIIa,\n",
    "           5, 20, SIIb, 5]\n",
    "tied = ['', '', 'p[17]', '', '', 'p[17]', '', 'p[4]', '', '3 * p[0]', '',\n",
    "        'p[17]', '', '', 'p[17]', '', '', '']"
   ]
  },
  {
   "cell_type": "code",
   "execution_count": 26,
   "metadata": {},
   "outputs": [],
   "source": [
    "# line fitting happens with this function\n",
    "\n",
    "spec.specfit(guesses = guesses, tied = tied, annotate = False)"
   ]
  },
  {
   "cell_type": "code",
   "execution_count": 27,
   "metadata": {},
   "outputs": [],
   "source": [
    "# need to feed speckit some info about the galaxy if you want it to be able to properly analyze the line fits\n",
    "\n",
    "spec.measure(z = 0.05, fluxnorm = 1e-17) # Parameters should be pretty obvious, fluxnorm not required if normalization\n",
    "                                         # factor is already present.   "
   ]
  },
  {
   "cell_type": "code",
   "execution_count": 28,
   "metadata": {},
   "outputs": [
    {
     "name": "stdout",
     "output_type": "stream",
     "text": [
      "Line   Flux (erg/s/cm^2)     Amplitude (erg/s/cm^2)    FWHM (Angstrom)   Luminosity (erg/s)\n",
      "NIIa 1.5928079810767e-15 2.485595321693565e-16 6.020059589644886 9.383077603431559e+39\n",
      "H_3-2 4.56987115346435e-15 7.131336918663009e-16 6.020059589644886 2.6920668517528277e+40\n",
      "H_3-2_1 4.439595067847635e-14 5.420641198399654e-16 76.94147161591337 2.6153224710280008e+41\n",
      "NIIb 4.778423943230101e-15 7.456785965080696e-16 6.020059589644886 2.8149232810294687e+40\n",
      "SIIa 1.4196357429185938e-15 2.2153580362663356e-16 6.020059589644886 8.362936714698031e+39\n",
      "SIIb 1.3266718029542009e-15 2.070286730115862e-16 6.020059589644886 7.815295144986027e+39\n"
     ]
    }
   ],
   "source": [
    "y = spec.plotter.ymax * 0.85    # Location of annotations in y\n",
    "\n",
    "for i, line in enumerate(spec.measurements.lines.keys()):\n",
    "\n",
    "    # If this line is not in our database of lines, don't try to annotate it\n",
    "    if line not in spec.speclines.optical.lines.keys(): continue\n",
    "\n",
    "    x = spec.measurements.lines[line]['modelpars'][1]   # Location of the emission line\n",
    "    # Draw dashed line to mark its position\n",
    "    spec.plotter.axis.plot([x]*2, [spec.plotter.ymin, spec.plotter.ymax],\n",
    "                           ls='--', color='k')\n",
    "    # Label it\n",
    "    spec.plotter.axis.annotate(spec.speclines.optical.lines[line][-1], (x, y),\n",
    "                               rotation = 90, ha = 'right', va = 'center')\n",
    "    # Make some nice axis labels\n",
    "spec.plotter.axis.set_xlabel(r'Wavelength $(\\AA)$')\n",
    "spec.plotter.axis.set_ylabel(r'Flux $(10^{-17} \\mathrm{erg/s/cm^2/\\AA})$')\n",
    "spec.plotter.refresh()\n",
    "\n",
    "# Print out spectral line information\n",
    "print(\"Line   Flux (erg/s/cm^2)     Amplitude (erg/s/cm^2)\"\n",
    "      \"    FWHM (Angstrom)   Luminosity (erg/s)\")\n",
    "for line in spec.measurements.lines.keys():\n",
    "    print(line, spec.measurements.lines[line]['flux'],\n",
    "          spec.measurements.lines[line]['amp'],\n",
    "          spec.measurements.lines[line]['fwhm'],\n",
    "          spec.measurements.lines[line]['lum'])"
   ]
  },
  {
   "cell_type": "code",
   "execution_count": 29,
   "metadata": {},
   "outputs": [
    {
     "name": "stderr",
     "output_type": "stream",
     "text": [
      "\n",
      "Legend.draggable() is drepecated in favor of Legend.set_draggable(). Legend.draggable may be reintroduced as a property in future releases.\n"
     ]
    }
   ],
   "source": [
    "spec.specfit.plot_fit()"
   ]
  },
  {
   "cell_type": "code",
   "execution_count": 30,
   "metadata": {},
   "outputs": [
    {
     "name": "stdout",
     "output_type": "stream",
     "text": [
      "     AMPLITUDE0:       24.856 +/-     0.637563\n",
      "         SHIFT0:      6551.69 +/-     0.218836\n",
      "         WIDTH0:      2.55648 +/-            0\n",
      "     AMPLITUDE1:      71.3134 +/-      2.04776\n",
      "         SHIFT1:      6565.86 +/-    0.0778487\n",
      "         WIDTH1:      2.55648 +/-            0\n",
      "     AMPLITUDE2:      54.2064 +/-     0.665352\n",
      "         SHIFT2:      6565.86 +/-            0\n",
      "         WIDTH2:       32.674 +/-      0.28567\n",
      "     AMPLITUDE3:      74.5679 +/-            0\n",
      "         SHIFT3:      6586.74 +/-    0.0770116\n",
      "         WIDTH3:      2.55648 +/-            0\n",
      "     AMPLITUDE4:      22.1536 +/-      1.05101\n",
      "         SHIFT4:      6719.62 +/-     0.157829\n",
      "         WIDTH4:      2.55648 +/-            0\n",
      "     AMPLITUDE5:      20.7029 +/-      1.04717\n",
      "         SHIFT5:      6734.14 +/-     0.170072\n",
      "         WIDTH5:      2.55648 +/-    0.0535433\n"
     ]
    }
   ],
   "source": [
    "spec.specfit.print_fit()"
   ]
  },
  {
   "cell_type": "code",
   "execution_count": 31,
   "metadata": {},
   "outputs": [
    {
     "name": "stderr",
     "output_type": "stream",
     "text": [
      "Matplotlib is currently using module://ipykernel.pylab.backend_inline, which is a non-GUI backend, so cannot show the figure.\n"
     ]
    }
   ],
   "source": [
    "spec.plotter.figure.show() # kind of seems like it shouldnt be doing this, but whatever; just making a png\n",
    "                           # works for now"
   ]
  },
  {
   "cell_type": "code",
   "execution_count": 32,
   "metadata": {},
   "outputs": [],
   "source": [
    "spec.plotter.figure.savefig(\"./py_files/sdss_fit_example.png\")"
   ]
  },
  {
   "cell_type": "markdown",
   "metadata": {},
   "source": [
    "# On to the next:"
   ]
  },
  {
   "cell_type": "markdown",
   "metadata": {},
   "source": [
    "## Interactive line-fitting: maybe a good option?\n",
    "In this example the pyspeckit documentation lays out a helpful little 5-step process for (graphically) fitting your own lines interactively."
   ]
  },
  {
   "cell_type": "markdown",
   "metadata": {},
   "source": [
    "#### #1. load spectrum"
   ]
  },
  {
   "cell_type": "code",
   "execution_count": 33,
   "metadata": {
    "scrolled": false
   },
   "outputs": [
    {
     "name": "stderr",
     "output_type": "stream",
     "text": [
      "Warning: No reference frequency found.  Velocity transformations will not be possible unless you set a reference frequency/wavelength\n"
     ]
    }
   ],
   "source": [
    "sp = pyspeckit.Spectrum('./py_files/hr2421.fit')"
   ]
  },
  {
   "cell_type": "markdown",
   "metadata": {},
   "source": [
    "#### #2. plot the line you want to fit"
   ]
  },
  {
   "cell_type": "code",
   "execution_count": 34,
   "metadata": {},
   "outputs": [
    {
     "data": {
      "image/png": "[encoded data removed]",
      "text/plain": [
       "<Figure size 432x288 with 1 Axes>"
      ]
     },
     "metadata": {
      "needs_background": "light"
     },
     "output_type": "display_data"
    }
   ],
   "source": [
    "sp.plotter(xmin=4700,xmax=5000)"
   ]
  },
  {
   "cell_type": "markdown",
   "metadata": {},
   "source": [
    "#### #3. fit continuum"
   ]
  },
  {
   "cell_type": "code",
   "execution_count": 35,
   "metadata": {},
   "outputs": [
    {
     "name": "stdout",
     "output_type": "stream",
     "text": [
      "\n",
      "(1) Left-click or press 1 (one) at two positions to select or add to the baseline fitting range - it will be\n",
      "highlighted in green if the selection is successful.\n",
      "    You can select regions to e/x/clude by pressing 'x' at two positions\n",
      "(2) Middle or right click or press '2','m', '3', or 'd' to /d/isconnect and perform the fit.\n",
      "    If you press '2','m', or middle-click, the baseline will be subtracted\n",
      "    If you press '3','d', or right-click, the baseline will be plotted but not subtracted\n",
      "\n"
     ]
    },
    {
     "name": "stderr",
     "output_type": "stream",
     "text": [
      "Include mask was uniformly True.  \n",
      "This has the effect of making the 'baseline' command do nothing.\n",
      "If this was not your intent, try spectrum.baseline(interactive=True,reset_selection=True)\n"
     ]
    }
   ],
   "source": [
    "sp.baseline(interactive=True, subtract=False)"
   ]
  },
  {
   "cell_type": "markdown",
   "metadata": {},
   "source": [
    "#### #4. ???????"
   ]
  },
  {
   "cell_type": "markdown",
   "metadata": {},
   "source": [
    "#### #5. profit/fit lines"
   ]
  },
  {
   "cell_type": "code",
   "execution_count": 36,
   "metadata": {},
   "outputs": [],
   "source": [
    "# oh screw this for now"
   ]
  }
 ],
 "metadata": {
  "kernelspec": {
   "display_name": "Python 3",
   "language": "python",
   "name": "python3"
  },
  "language_info": {
   "codemirror_mode": {
    "name": "ipython",
    "version": 3
   },
   "file_extension": ".py",
   "mimetype": "text/x-python",
   "name": "python",
   "nbconvert_exporter": "python",
   "pygments_lexer": "ipython3",
   "version": "3.7.3"
  }
 },
 "nbformat": 4,
 "nbformat_minor": 2
}
